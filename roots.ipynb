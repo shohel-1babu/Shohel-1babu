{
  "nbformat": 4,
  "nbformat_minor": 0,
  "metadata": {
    "colab": {
      "provenance": [],
      "toc_visible": true,
      "authorship_tag": "ABX9TyPR90U46Ptyb+H77bS7T48E",
      "include_colab_link": true
    },
    "kernelspec": {
      "name": "python3",
      "display_name": "Python 3"
    },
    "language_info": {
      "name": "python"
    }
  },
  "cells": [
    {
      "cell_type": "markdown",
      "metadata": {
        "id": "view-in-github",
        "colab_type": "text"
      },
      "source": [
        "<a href=\"https://colab.research.google.com/github/shohel-1babu/Shohel-1babu/blob/main/roots.ipynb\" target=\"_parent\"><img src=\"https://colab.research.google.com/assets/colab-badge.svg\" alt=\"Open In Colab\"/></a>"
      ]
    },
    {
      "cell_type": "code",
      "execution_count": 6,
      "metadata": {
        "colab": {
          "base_uri": "https://localhost:8080/"
        },
        "id": "cZLiu620bvWX",
        "outputId": "7f6ddb17-b53f-4fe8-c448-8465ac874d71"
      },
      "outputs": [
        {
          "output_type": "stream",
          "name": "stdout",
          "text": [
            "The solutions are (-0.86332495807108+0j) and (0.46332495807108+0j)\n"
          ]
        }
      ],
      "source": [
        "# Solve the quadratic equation ax**2 + bx + c = 0\n",
        "# Import the complex math module\n",
        "import cmath\n",
        "\n",
        "# Coefficients of the quadratic equation\n",
        "a = 5\n",
        "b = 2\n",
        "c = -2\n",
        "\n",
        "# Calculate the discriminant\n",
        "d = (b**2) - (4*a*c)\n",
        "\n",
        "# Find two solutions\n",
        "sol1 = (-b - cmath.sqrt(d)) / (2*a)\n",
        "sol2 = (-b + cmath.sqrt(d)) / (2*a)\n",
        "\n",
        "print(f\"The solutions are {sol1} and {sol2}\")\n",
        "\n"
      ]
    }
  ]
}